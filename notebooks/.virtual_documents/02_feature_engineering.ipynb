



import pandas as pd

df = pd.read_csv("data_cleaned.csv", parse_dates=['date_added'])

df.head()



df['year_added'] = df['date_added'].dt.year
df['month_added'] = df['date_added'].dt.month



df['content_age'] = df['year_added'] - df['release_year']



df['duration_value'] = pd.to_numeric(df['duration_value'], errors='coerce')
df['duration_unit'] = df['duration_unit'].str.lower()




df['is_movie'] = df['type'].apply(lambda x: 1 if x == 'Movie' else 0)



df['genre_count'] = df['listed_in'].apply(lambda x: len(x.split(',')))



df.to_csv("netflix_feature_engineered.csv", index=False)



df.head()





df.to_csv("final.csv", index=False)
print("✅ Feature-engineered dataset saved as netflix_feature_engineered.csv")



df.columns



