import pandas as pd
import mysql.connector

# Load your DataFrame
df = pd.read_csv(".csv")

# Replace NaN with None (NULL for MySQL)
df = df.where(pd.notnull(df), None)

# Connect to MySQL
conn = mysql.connector.connect(
    host="localhost",
    user="root",
    password="your_password",
    database="netflix_db"
)
cursor = conn.cursor()

# Create table if not exists
cursor.execute("""
CREATE TABLE IF NOT EXISTS netflix_titles (
    show_id VARCHAR(10),
    type VARCHAR(50),
    title VARCHAR(255),
    director VARCHAR(255),
    cast TEXT,
    country VARCHAR(255),
    date_added VARCHAR(50),
    release_year INT,
    rating VARCHAR(20),
    duration VARCHAR(50),
    listed_in TEXT,
    description TEXT,
    duration_value INT,
    duration_unit VARCHAR(20),
    year_added INT,
    month_added INT,
    content_age VARCHAR(50),
    is_movie BOOLEAN,
    genre_count INT
)
""")

# Prepare the insert query
insert_query = """
INSERT INTO netflix_titles (
    show_id, type, title, director, cast, country, date_added, 
    release_year, rating, duration, listed_in, description, 
    duration_value, duration_unit, year_added, month_added, 
    content_age, is_movie, genre_count
) VALUES (%s, %s, %s, %s, %s, %s, %s, %s, %s, %s, %s, %s, %s, %s, %s, %s, %s, %s, %s)
"""

# Insert data
cursor.executemany(insert_query, df.to_records(index=False).tolist())

# Commit changes
conn.commit()

print(f"{cursor.rowcount} rows inserted successfully.")

# Close connection
cursor.close()
conn.close()




