


import pandas as pd
import matplotlib.pyplot as plt
import seaborn as sns

sns.set(style="whitegrid", palette="Set2")

df = pd.read_csv("netflix_feature_engineered.csv")

# Quick check
df.head()






df.info()
df.describe()
df.isnull().sum()






plt.figure(figsize=(6,4))
sns.countplot(data=df, x='type', palette='pastel')
plt.title("Movies vs TV Shows", fontsize=14)
plt.xlabel("Type")
plt.ylabel("Count")
plt.show()






plt.figure(figsize=(10,5))
df['year_added'].value_counts().sort_index().plot(kind='bar', color='skyblue')
plt.title("Number of Titles Added Per Year", fontsize=14)
plt.xlabel("Year Added")
plt.ylabel("Number of Titles")
plt.show()






from collections import Counter

all_genres = df['listed_in'].str.split(',').sum()
genre_counts = pd.Series(Counter([g.strip() for g in all_genres]))
top_genres = genre_counts.sort_values(ascending=False).head(10)

plt.figure(figsize=(8,5))
sns.barplot(x=top_genres.values, y=top_genres.index, palette='viridis')
plt.title("Top 10 Genres", fontsize=14)
plt.xlabel("Number of Titles")
plt.ylabel("Genre")
plt.show()






plt.figure(figsize=(8,5))
sns.histplot(data=df[df['is_movie']==1], x='duration_value', bins=30, kde=True, color='orange')
plt.title("Movie Duration Distribution", fontsize=14)
plt.xlabel("Duration (Minutes)")
plt.ylabel("Count")
plt.show()

plt.figure(figsize=(8,5))
sns.countplot(data=df[df['is_movie']==0], x='duration_value', palette='coolwarm')
plt.title("TV Show Seasons Distribution", fontsize=14)
plt.xlabel("Number of Seasons")
plt.ylabel("Count")
plt.show()






plt.figure(figsize=(8,5))
sns.histplot(df['content_age'], bins=30, kde=True, color='purple')
plt.title("Content Age Distribution", fontsize=14)
plt.xlabel("Years After Release")
plt.ylabel("Count")
plt.show()



df.to_csv("data_eda.csv", index=False)
print("✅ EDA-ready dataset saved as netflix_eda_ready.csv")



# Month-wise content addition trend
month_order = ['January', 'February', 'March', 'April', 'May', 'June', 
               'July', 'August', 'September', 'October', 'November', 'December']

month_counts = df['month_added'].value_counts().reindex(month_order)

plt.figure(figsize=(10,6))
sns.barplot(x=month_counts.index, y=month_counts.values, palette="viridis")
plt.title('Month-wise Content Additions on Netflix', fontsize=14, fontweight='bold')
plt.xticks(rotation=45)
plt.ylabel('Number of Titles')
plt.show()



plt.figure(figsize=(12,6))
sns.countplot(data=df, x='year_added', hue='type', palette='Set2')
plt.title('Yearly Content Additions by Type', fontsize=14, fontweight='bold')
plt.xticks(rotation=45)
plt.ylabel('Number of Titles')
plt.legend(title='Type')
plt.show()



top_directors = df['director'].dropna().value_counts().head(10)

plt.figure(figsize=(10,6))
sns.barplot(y=top_directors.index, x=top_directors.values, palette="coolwarm")
plt.title('Top 10 Directors with Most Netflix Titles', fontsize=14, fontweight='bold')
plt.xlabel('Number of Titles')
plt.ylabel('Director')
plt.show()



type_counts = df['type'].value_counts()
plt.figure(figsize=(6,6))
type_counts.plot(kind='pie', autopct='%1.1f%%', colors=['lightcoral','lightgreen'])
plt.title('Movies vs TV Shows Distribution')
plt.ylabel('')
plt.show()






country_counts = df['country'].value_counts().head(10)
plt.figure(figsize=(10,6))
country_counts.plot(kind='bar', color='orange')
plt.title('Top 10 Countries by Content Count')
plt.ylabel('Count')
plt.xticks(rotation=45)
plt.show()



rating_counts = df['rating'].value_counts().head(10)
plt.figure(figsize=(10,6))
rating_counts.plot(kind='bar', color='purple')
plt.title('Top 10 Ratings on Netflix')
plt.ylabel('Count')
plt.xticks(rotation=45)
plt.show()
















